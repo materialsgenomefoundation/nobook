{
  "nbformat": 4,
  "nbformat_minor": 5,
  "metadata": {},
  "cells": [
    {
      "id": "b87385fe",
      "cell_type": "markdown",
      "source": "# Applications to chemical reactions\n\nA chemical reaction can be viewed as a framework dividing a system into\ntwo closed subsystems: reactants and products. The phases and species of\nreactants and products are selected from possible phases and species\nthat may form from the independent components of the system. A chemical\nreaction can thus be considered as an internal process to transfer heat\nand work between the two subsystems of reactants and products. It is\nevident that this subset of phases and species only represents partial\nequilibrium information of the system under given external conditions,\nand more stable equilibrium states may exist by including more phases\nand species with the global equilibrium depicted by phase diagrams\ndiscussed in previous chapters with all known phases and species\nincluded.\n",
      "metadata": {}
    }
  ]
}