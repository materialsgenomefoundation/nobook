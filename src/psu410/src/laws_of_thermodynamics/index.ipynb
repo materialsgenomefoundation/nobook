{
  "nbformat": 4,
  "nbformat_minor": 5,
  "metadata": {},
  "cells": [
    {
      "id": "2d5be24d",
      "cell_type": "markdown",
      "source": "# Laws of thermodynamics\n",
      "metadata": {}
    }
  ]
}