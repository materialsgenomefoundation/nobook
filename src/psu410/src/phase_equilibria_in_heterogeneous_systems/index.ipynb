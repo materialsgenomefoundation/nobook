{
  "nbformat": 4,
  "nbformat_minor": 5,
  "metadata": {},
  "cells": [
    {
      "id": "f853d6af",
      "cell_type": "markdown",
      "source": [
        "# Phase equilibria in heterogeneous systems\n"
      ],
      "metadata": {}
    }
  ]
}