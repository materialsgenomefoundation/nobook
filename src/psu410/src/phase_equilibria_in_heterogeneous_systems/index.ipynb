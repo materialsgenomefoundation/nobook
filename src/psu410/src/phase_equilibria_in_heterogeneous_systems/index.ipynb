{
  "nbformat": 4,
  "nbformat_minor": 5,
  "metadata": {},
  "cells": [
    {
      "id": "84575b0c",
      "cell_type": "markdown",
      "source": "# Phase equilibria in heterogeneous systems\n",
      "metadata": {}
    }
  ]
}