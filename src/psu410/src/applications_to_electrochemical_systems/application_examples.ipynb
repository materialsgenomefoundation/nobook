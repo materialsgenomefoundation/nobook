{
  "nbformat": 4,
  "nbformat_minor": 5,
  "metadata": {},
  "cells": [
    {
      "id": "cde26072",
      "cell_type": "markdown",
      "source": [
        "## Application examples\n",
        "\n",
        "Among many applications of electrochemistry, several of them are briefly\n",
        "discussed in this section.\n"
      ],
      "metadata": {}
    }
  ]
}