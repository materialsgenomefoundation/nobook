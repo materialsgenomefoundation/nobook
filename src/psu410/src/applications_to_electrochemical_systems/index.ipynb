{
  "nbformat": 4,
  "nbformat_minor": 5,
  "metadata": {},
  "cells": [
    {
      "id": "e01daf27",
      "cell_type": "markdown",
      "source": "# Applications to electrochemical systems\n\nThe two basic types of chemical processes involving ions as reactant\nand/or product species are electrolyte reactions and electrochemical\nreactions. *Electrolyte reactions* are accompanied by the *atomic-scale\nmovement* of ionic species and possibly electrons. Chemical changes that\nproduce changes in valence and *electron and ion transport over finite\ndistances* constitute an area of science termed *electrochemistry*. The\nlatter chemical changes occur in an electrochemical cell comprised of\ntwo electrodes, an anode and a cathode, which are coupled by an\nelectrolyte and an external electron conductor. Most thermodynamic\nconcepts and analyses described in previous chapters remain unchanged\nwhen applied to electrochemistry, but the analysis of electrochemical\nsystems does require some new terminology, new definitions, and new\nconventions. The primary focus of this chapter is on applications of\nthermodynamics to electrochemical reactions that involve either aqueous\nelectrolyte solutions or solid state electrolytes. Since all\nelectrochemical systems include ionized species as reactant and/or\nproduct species, electrolyte reactions will also be discussed.\n",
      "metadata": {}
    }
  ]
}