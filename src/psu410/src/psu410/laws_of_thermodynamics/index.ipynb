{
  "nbformat": 4,
  "nbformat_minor": 5,
  "metadata": {},
  "cells": [
    {
      "id": "2bb2daa7",
      "cell_type": "markdown",
      "source": [
        "# Laws of thermodynamics\n"
      ],
      "metadata": {}
    }
  ]
}