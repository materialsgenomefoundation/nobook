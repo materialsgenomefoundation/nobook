{
  "nbformat": 4,
  "nbformat_minor": 5,
  "metadata": {},
  "cells": [
    {
      "id": "9ccb7396",
      "cell_type": "markdown",
      "source": [
        "# Applications to chemical reactions\n",
        "\n",
        "A chemical reaction can be viewed as a framework dividing a system into\n",
        "two closed subsystems: reactants and products. The phases and species of\n",
        "reactants and products are selected from possible phases and species\n",
        "that may form from the independent components of the system. A chemical\n",
        "reaction can thus be considered as an internal process to transfer heat\n",
        "and work between the two subsystems of reactants and products. It is\n",
        "evident that this subset of phases and species only represents partial\n",
        "equilibrium information of the system under given external conditions,\n",
        "and more stable equilibrium states may exist by including more phases\n",
        "and species with the global equilibrium depicted by phase diagrams\n",
        "discussed in previous chapters with all known phases and species\n",
        "included.\n"
      ],
      "metadata": {}
    }
  ]
}