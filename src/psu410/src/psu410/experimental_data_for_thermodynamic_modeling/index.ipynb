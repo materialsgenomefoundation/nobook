{
  "nbformat": 4,
  "nbformat_minor": 5,
  "metadata": {},
  "cells": [
    {
      "id": "f5d00303",
      "cell_type": "markdown",
      "source": [
        "# Experimental data for thermodynamic modeling\n",
        "\n",
        "The most widely used thermodynamic modeling technique is the CALPHAD\n",
        "(CALculation of PHAse Diagram) method to be discussed in detail in\n",
        "Chapter 6. The input data in the evaluations of thermodynamic model\n",
        "parameters have been primarily from experiments and estimations until\n",
        "first-principles calculations based on the density functional theory\n",
        "\\[8\\] became a user tool in the later 1990\u2019s. Experimental data include\n",
        "both thermodynamic and phase equilibrium data, while the\n",
        "first-principles calculations, which only provide thermodynamic data of\n",
        "individual phases, are discussed more extensively in Chapter .\n",
        "\n",
        "The three recently published books summarize the commonly used methods\n",
        "on experimental measurements of thermodynamic properties of single \\[9\\]\n",
        "and multiple phases \\[10\\] and phase diagrams \\[11\\]. They are briefly\n",
        "discussed here, and readers are referred to these books for details. The\n",
        "main techniques for crystal structure analysis include X-ray\n",
        "diffraction, electron backscatter diffraction (EBSD), electron\n",
        "diffraction in transmission electron microscopy, neutral scattering, and\n",
        "synchrotron scattering, which are not discussed in this book.\n"
      ],
      "metadata": {}
    }
  ]
}