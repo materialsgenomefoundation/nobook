{
  "nbformat": 4,
  "nbformat_minor": 5,
  "metadata": {},
  "cells": [
    {
      "id": "3bb06c52",
      "cell_type": "markdown",
      "source": [
        "# Applications to electrochemical systems\n",
        "\n",
        "The two basic types of chemical processes involving ions as reactant\n",
        "and/or product species are electrolyte reactions and electrochemical\n",
        "reactions. *Electrolyte reactions* are accompanied by the *atomic-scale\n",
        "movement* of ionic species and possibly electrons. Chemical changes that\n",
        "produce changes in valence and *electron and ion transport over finite\n",
        "distances* constitute an area of science termed *electrochemistry*. The\n",
        "latter chemical changes occur in an electrochemical cell comprised of\n",
        "two electrodes, an anode and a cathode, which are coupled by an\n",
        "electrolyte and an external electron conductor. Most thermodynamic\n",
        "concepts and analyses described in previous chapters remain unchanged\n",
        "when applied to electrochemistry, but the analysis of electrochemical\n",
        "systems does require some new terminology, new definitions, and new\n",
        "conventions. The primary focus of this chapter is on applications of\n",
        "thermodynamics to electrochemical reactions that involve either aqueous\n",
        "electrolyte solutions or solid state electrolytes. Since all\n",
        "electrochemical systems include ionized species as reactant and/or\n",
        "product species, electrolyte reactions will also be discussed.\n"
      ],
      "metadata": {}
    }
  ]
}