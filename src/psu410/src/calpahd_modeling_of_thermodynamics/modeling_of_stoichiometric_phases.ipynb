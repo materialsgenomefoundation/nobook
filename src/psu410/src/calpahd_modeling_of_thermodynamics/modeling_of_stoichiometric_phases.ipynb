{
  "nbformat": 4,
  "nbformat_minor": 5,
  "metadata": {},
  "cells": [
    {
      "id": "a6ae79da",
      "cell_type": "markdown",
      "source": [
        "## Modeling of stoichiometric phases\n",
        "\n",
        "The Gibbs energy of a stoichiometric phase can be modeled in the same\n",
        "way as that of pure elements discussed above using the data of heat\n",
        "capacity, $S_{298.15}$, and enthalpy of formation at 298.15 K (). When\n",
        "these data are not available from experiments, they can be predicted by\n",
        "first-principles calculations as discussed Chapter . It should be\n",
        "pointed out that constraints placed on heat capacity of stoichiometric\n",
        "compounds above melting temperatures, i.e. and , have not been\n",
        "rigorously implemented in the literature for such modeling, partially\n",
        "because the heat capacity of the corresponding liquid solution is not\n",
        "well established, and the heat capacity of a compound is often not\n",
        "available.\n",
        "\n",
        "When the data of heat capacity is not available, a simple approach,\n",
        "commonly referred to as Neumann\u2013Kopp Rule assuming that the heat\n",
        "capacity of formation of is zero, can be used. The Gibbs energy of the\n",
        "compound is written as\n",
        "\n",
        "*Eq. 6\u20116*\n",
        "$G = \\sum_{}^{}N_{i}{_{\\ }^{0}G}_{i}^{ref} + \\mathrm{\\Delta}_{f}H - T\\mathrm{\\Delta}_{f}S$\n",
        "\n",
        "with $\\mathrm{\\Delta}_{f}H$ and $\\mathrm{\\Delta}_{f}S$ modeled as\n",
        "constants. An additional draw back of is that the melting temperature of\n",
        "the compound can be higher than those of pure elements, and the heat\n",
        "capacity of the compound may thus be questionable at temperatures higher\n",
        "than the melting temperatures of pure elements due to the non-physical\n",
        "contributions from pure elements based on .\n"
      ],
      "metadata": {}
    }
  ]
}