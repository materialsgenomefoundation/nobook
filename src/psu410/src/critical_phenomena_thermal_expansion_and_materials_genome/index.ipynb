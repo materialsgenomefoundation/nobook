{
  "nbformat": 4,
  "nbformat_minor": 5,
  "metadata": {},
  "cells": [
    {
      "id": "7ac53aa2",
      "cell_type": "markdown",
      "source": [
        "# Critical phenomena, thermal expansion, and Materials Genome\u00ae\n",
        "\n",
        "In Chapter , it was shown that all molar quantities of a homogeneous\n",
        "system diverge at the critical point, i.e. the limit of stability,\n",
        "including the additional ones shown in . As illustrated by , even though\n",
        "each molar quantity changes in the same direction as its conjugate\n",
        "potential, i.e. with the same sign, its dependence with respect to a\n",
        "nonconjugate potentials can either be in the same sign or opposite\n",
        "signs. It is often considered to be normal when they change in the same\n",
        "direction, while abnormal when in different directions.\n",
        "\n",
        "In this chapter, the thermal expansion defined by , is used as an\n",
        "example for detailed discussion of those extraordinary phenomena in the\n",
        "context of a critical point based on the MMS model presented in Chapter\n",
        ". The MMS model is first discussed in terms of thermal expansion and\n",
        "then applied to elemental cerium (Ce) with the colossal positive thermal\n",
        "expansion (CPTE) and Fe<sub>3</sub>Pt with negative thermal expansion\n",
        "(NTE).\n"
      ],
      "metadata": {}
    }
  ]
}