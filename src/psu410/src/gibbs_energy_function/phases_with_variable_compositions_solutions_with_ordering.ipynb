{
  "nbformat": 4,
  "nbformat_minor": 5,
  "metadata": {},
  "cells": [
    {
      "id": "04ebd1df",
      "cell_type": "markdown",
      "source": [
        "## Phases with variable compositions: Solutions with ordering\n"
      ],
      "metadata": {}
    }
  ]
}