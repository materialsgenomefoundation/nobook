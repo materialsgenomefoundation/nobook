{
  "nbformat": 4,
  "nbformat_minor": 5,
  "metadata": {},
  "cells": [
    {
      "id": "18183ae3",
      "cell_type": "markdown",
      "source": [
        "## Phase equilibrium data from experiments\n"
      ],
      "metadata": {}
    },
    {
      "id": "18e4172d",
      "cell_type": "markdown",
      "source": [
        "### Solution calorimetry\n",
        "\n",
        "The book edited by Marsh and O\u2019Hare \\[12\\] documented the detailed\n",
        "experimental techniques used for solution calorimetry. In one\n",
        "experiment, the enthalpy of solution of a single phase is measured in a\n",
        "particular solvent. To convert this enthalpy of solution into enthalpy\n",
        "of formation of the phase, a thermodynamic cycle is setup for a chemical\n",
        "reaction to form this phase from either constitutive pure elements or\n",
        "compounds. Therefore in another experiment, the enthalpy of solution of\n",
        "constitutive pure elements or compounds is measured in the solvent as\n",
        "identical as possible to that used in the first experiment. The\n",
        "difference of the two enthalpies of solution thus gives the enthalpy of\n",
        "formation of the single phase from its constitutive elements or\n",
        "compounds at the temperature of the samples before they are dropped into\n",
        "the solvent, usually at room temperature.\n",
        "\n",
        "The solvent can be aqueous solutions at ambient temperatures and\n",
        "pressures or metallic/salt/oxide melts at high temperatures under either\n",
        "adiabatic or isoperibol conditions. The adiabatic calorimetry measures\n",
        "the temperature change of the solvent and is usually more accurate than\n",
        "the isoperibol calorimetry that measures the heat generated during the\n",
        "dissolution, though the adiabatic ones are with more complex\n",
        "instruments. It is important that the choices of solvent and temperature\n",
        "ensure the complete dissolution of all substances into the solvent to\n",
        "form a homogeneous solution. Furthermore, the effect of dilution and of\n",
        "changes in solvent composition needs to be considered in the calculation\n",
        "of enthalpy of solution.\n",
        "\n",
        "A large number of solvents are used. For aqueous solvent, hydrofluoric\n",
        "acid or mixtures of HF and HCl are often used. For oxides, buffer-type\n",
        "systems are typical such as lead and alkali borates and alkali\n",
        "tungstates/molybdates. For metallic phases, low melting metals such as\n",
        "Sn, Bi, In, Pb, and Cd, sometimes Al and Cu, are used. Factors such as\n",
        "solubility, dissolution kinetics, thermal history, stirring, heat flow,\n",
        "particle size, and system size are to be optimized for accurate\n",
        "measurements. To enhance solution kinetics, the compound to be studied\n",
        "can be mixed with another element or compound so that the mixture can\n",
        "form liquid in the solvent at higher reaction rate. In any case, it is\n",
        "important to calibrate the system with pure elements and compounds of\n",
        "known enthalpy of formation.\n"
      ],
      "metadata": {}
    }
  ]
}