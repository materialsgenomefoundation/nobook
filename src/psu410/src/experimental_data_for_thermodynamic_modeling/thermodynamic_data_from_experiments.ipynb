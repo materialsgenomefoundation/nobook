{
  "nbformat": 4,
  "nbformat_minor": 5,
  "metadata": {},
  "cells": [
    {
      "id": "2b11bcc5",
      "cell_type": "markdown",
      "source": [
        "## Thermodynamic data from experiments\n",
        "\n",
        "Broadly speaking, thermodynamic data represents the values of Gibbs free\n",
        "energy and all its first and second derivatives. For thermochemical\n",
        "properties as the main topic of the book, calorimetric, electrochemical,\n",
        "and vapor pressure methods are the primary techniques used with the\n",
        "first for accurate measurement of enthalpy and entropy, and the latter\n",
        "two for direct determination of Gibbs energy and activity. The\n",
        "electrochemical method is discussed in Chapter . The calorimetric method\n",
        "is divided into solution, combustion, direct reaction, and heat capacity\n",
        "calorimetry, respectively, which all involve chemical reactions to be\n",
        "discussed in detail in Chapter . The vapor pressure method involves the\n",
        "equilibrium of volatile species between gas and samples and is divided\n",
        "into Knudsen effusion and equilibration methods, respectively.\n"
      ],
      "metadata": {}
    },
    {
      "id": "ee7088c1",
      "cell_type": "markdown",
      "source": [
        "### Vapor pressure method\n",
        "\n",
        "In the Knudsen effusion method, a small amount of volatile species in\n",
        "the gas phase effuses through a small orifice of 0.1 to 1 mm with\n",
        "negligible influence of the equilibrium in the Knudsen cell. The vapor\n",
        "is ionized and analyzed with a mass spectrometer. The partial pressure\n",
        "of a species can be calculated from its ionization area and intensity\n",
        "through a calibration factor determined by a reference material with\n",
        "known partial pressure. For high temperature measurements, care must be\n",
        "taken to avoid the reactions between cell and sample and fragmentation\n",
        "of gas species on ionization. The typical vapor pressure range is\n",
        "between 10<sup>-7</sup> and 10 Pa.\n",
        "\n",
        "In various equilibration methods, the total vapor pressure is usually\n",
        "measured directly using pressure gauges in the range of 10<sup>-7</sup>\n",
        "and 100 kPa. Other direct or indirect methods include\n",
        "\n",
        "thermogravimetric method for measuring the vapor mass\n",
        "\n",
        "atomic absorption spectroscopy for gas composition\n",
        "\n",
        "measurement of sample composition equilibrated with a gas of\n",
        "well-defined activity of the volatile species\n",
        "\n",
        "the dew point method in which the condensation temperature of the\n",
        "volatile component is measured from the vapor equilibrated with the\n",
        "sample at a higher temperature,\n",
        "\n",
        "the chemical transport method to be discussed in Chapter .\n",
        "\n",
        "The main error in all these methods is often due to inadequate\n",
        "equilibration between vapor and sample.\n"
      ],
      "metadata": {}
    }
  ]
}